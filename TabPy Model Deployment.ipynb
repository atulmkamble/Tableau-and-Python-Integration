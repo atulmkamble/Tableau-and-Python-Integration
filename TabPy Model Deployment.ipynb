{
 "cells": [
  {
   "cell_type": "markdown",
   "metadata": {},
   "source": [
    "# 1. Create a Model in Python"
   ]
  },
  {
   "cell_type": "code",
   "execution_count": null,
   "metadata": {},
   "outputs": [],
   "source": [
    "# Sample Data\n",
    "x = [6.35, 6.40, 6.65, 8.60, 8.90, 9.00, 9.10]\n",
    "y = [1.95, 1.95, 2.05, 3.05, 3.05, 3.10, 3.15]"
   ]
  },
  {
   "cell_type": "code",
   "execution_count": 99,
   "metadata": {},
   "outputs": [
    {
     "data": {
      "text/plain": [
       "[0, 0, 0, 1, 1, 1, 1]"
      ]
     },
     "execution_count": 99,
     "metadata": {},
     "output_type": "execute_result"
    }
   ],
   "source": [
    "# Test the clustering model on sample data\n",
    "import numpy as np\n",
    "from sklearn.cluster import DBSCAN\n",
    "from sklearn.preprocessing import StandardScaler\n",
    "X = np.column_stack([x, y])\n",
    "X = StandardScaler().fit_transform(X)\n",
    "db = DBSCAN(eps=0.3, min_samples=3).fit(X)\n",
    "db.labels_.tolist() # Cluster labels for sample data"
   ]
  },
  {
   "cell_type": "markdown",
   "metadata": {},
   "source": [
    "# 2. Deploy the Model on TabPy Server"
   ]
  },
  {
   "cell_type": "code",
   "execution_count": 73,
   "metadata": {},
   "outputs": [],
   "source": [
    "# Import tabpy client for deployment\n",
    "from tabpy.tabpy_tools.client import Client"
   ]
  },
  {
   "cell_type": "code",
   "execution_count": 75,
   "metadata": {},
   "outputs": [],
   "source": [
    "# Server URL (This would be the host and port on which you are running the TabPy server)\n",
    "client = Client('http://localhost:9004/')"
   ]
  },
  {
   "cell_type": "code",
   "execution_count": 76,
   "metadata": {},
   "outputs": [],
   "source": [
    "# Define the function tested above\n",
    "def clustering(x, y):\n",
    "    import numpy as np\n",
    "    from sklearn.cluster import DBSCAN\n",
    "    from sklearn.preprocessing import StandardScaler\n",
    "    X = np.column_stack([x, y])\n",
    "    X = StandardScaler().fit_transform(X)\n",
    "    db = DBSCAN(eps=0.3, min_samples=3).fit(X)\n",
    "    return db.labels_.tolist()"
   ]
  },
  {
   "cell_type": "code",
   "execution_count": 78,
   "metadata": {},
   "outputs": [],
   "source": [
    "# Deploy the model to TabPy server\n",
    "# Add Override = True if you are deploying the model again\n",
    "client.deploy('clustering', clustering,\n",
    "              'Returns cluster Ids for each data point specified by the pairs in x and y')"
   ]
  },
  {
   "cell_type": "markdown",
   "metadata": {},
   "source": [
    "Check if the model is model is deployed on the TabPy server at the URL below:<br>\n",
    "Server URL (This would be the host and port on which you are running the TabPy server): http://localhost:9004/endpoints"
   ]
  },
  {
   "cell_type": "markdown",
   "metadata": {},
   "source": [
    "# 3. Query the Model"
   ]
  },
  {
   "cell_type": "code",
   "execution_count": 98,
   "metadata": {},
   "outputs": [
    {
     "data": {
      "text/plain": [
       "{'response': [0, 0, 0, 1, 1, 1, 1],\n",
       " 'version': 2,\n",
       " 'model': 'clustering',\n",
       " 'uuid': 'c2b1479f-c1ff-4d0f-b7a9-b29ca4da31a2'}"
      ]
     },
     "execution_count": 98,
     "metadata": {},
     "output_type": "execute_result"
    }
   ],
   "source": [
    "# Test the deployed model\n",
    "client.query('clustering', x, y)"
   ]
  },
  {
   "cell_type": "markdown",
   "metadata": {},
   "source": [
    "# 4. Delete the Model"
   ]
  },
  {
   "cell_type": "code",
   "execution_count": 72,
   "metadata": {},
   "outputs": [],
   "source": [
    "# To delete the deployed model from TabPy server\n",
    "client.remove('clustering')"
   ]
  }
 ],
 "metadata": {
  "kernelspec": {
   "display_name": "Python 3",
   "language": "python",
   "name": "python3"
  },
  "language_info": {
   "codemirror_mode": {
    "name": "ipython",
    "version": 3
   },
   "file_extension": ".py",
   "mimetype": "text/x-python",
   "name": "python",
   "nbconvert_exporter": "python",
   "pygments_lexer": "ipython3",
   "version": "3.7.7"
  }
 },
 "nbformat": 4,
 "nbformat_minor": 4
}
